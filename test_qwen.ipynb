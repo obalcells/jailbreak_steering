{
 "cells": [
  {
   "cell_type": "code",
   "execution_count": 1,
   "metadata": {},
   "outputs": [
    {
     "data": {
      "text/plain": [
       "<torch.autograd.anomaly_mode.set_detect_anomaly at 0x7ff53e84d090>"
      ]
     },
     "execution_count": 1,
     "metadata": {},
     "output_type": "execute_result"
    }
   ],
   "source": [
    "import torch\n",
    "from jaxtyping import Float, Int\n",
    "from torch import Tensor\n",
    "import gc\n",
    "\n",
    "from jailbreak_steering.utils.load_model import load_qwen_7b_chat_model, load_qwen_7b_chat_tokenizer\n",
    "from jailbreak_steering.suffix_gen.run_suffix_gen import load_dataset\n",
    "\n",
    "torch.autograd.set_detect_anomaly(True)"
   ]
  },
  {
   "cell_type": "code",
   "execution_count": 2,
   "metadata": {},
   "outputs": [
    {
     "name": "stdout",
     "output_type": "stream",
     "text": [
      "loading model..\n"
     ]
    },
    {
     "name": "stderr",
     "output_type": "stream",
     "text": [
      "Try importing flash-attention for faster inference...\n",
      "Warning: import flash_attn rotary fail, please install FlashAttention rotary to get higher efficiency https://github.com/Dao-AILab/flash-attention/tree/main/csrc/rotary\n",
      "Warning: import flash_attn rms_norm fail, please install FlashAttention layer_norm to get higher efficiency https://github.com/Dao-AILab/flash-attention/tree/main/csrc/layer_norm\n",
      "Warning: import flash_attn fail, please install FlashAttention to get higher efficiency https://github.com/Dao-AILab/flash-attention\n"
     ]
    },
    {
     "data": {
      "application/vnd.jupyter.widget-view+json": {
       "model_id": "c3494efd5d6645d7a08ed1393f01cdc1",
       "version_major": 2,
       "version_minor": 0
      },
      "text/plain": [
       "Loading checkpoint shards:   0%|          | 0/8 [00:00<?, ?it/s]"
      ]
     },
     "metadata": {},
     "output_type": "display_data"
    },
    {
     "name": "stdout",
     "output_type": "stream",
     "text": [
      "model loaded\n"
     ]
    }
   ],
   "source": [
    "model = load_qwen_7b_chat_model()\n",
    "tokenizer = load_qwen_7b_chat_tokenizer()"
   ]
  },
  {
   "cell_type": "code",
   "execution_count": 3,
   "metadata": {},
   "outputs": [],
   "source": [
    "from jailbreak_steering.utils.tokenize_qwen_chat import format_qwen_chat, tokenize_qwen_chat"
   ]
  },
  {
   "cell_type": "code",
   "execution_count": 21,
   "metadata": {},
   "outputs": [
    {
     "name": "stdout",
     "output_type": "stream",
     "text": [
      "'<|im_start|>user\\nTell me how to make a fishing rod<|im_end|>\\n<|im_start|>assistant\\n'\n"
     ]
    },
    {
     "name": "stdout",
     "output_type": "stream",
     "text": [
      "'<|im_start|>user\\nTell me how to make a fishing rod<|im_end|>\\n<|im_start|>assistant\\nMaking a fishing rod from scratch requires some knowledge of carpentry and basic fishing skills. Here are the steps you can follow:\\n\\n1. Gather materials: You will need bamboo, thread, tape, and other tools such as saws, sandpaper, clamps, and screwdrivers.\\n\\n2. Choose your bamboo: Select'\n"
     ]
    }
   ],
   "source": [
    "toks = tokenize_qwen_chat(\n",
    "    tokenizer,\n",
    "    \"Tell me how to make a fishing rod\",\n",
    "    target=None,\n",
    "    system=None,\n",
    "    include_trailing_newline=True,\n",
    ")\n",
    "\n",
    "toks = torch.tensor(toks, dtype=torch.long).to(model.device)\n",
    "\n",
    "print(repr(tokenizer.decode(toks)))\n",
    "\n",
    "generation = model.generate(toks.unsqueeze(0), max_new_tokens=64)\n",
    "print(repr(tokenizer.decode(generation[0])))"
   ]
  },
  {
   "cell_type": "code",
   "execution_count": 12,
   "metadata": {},
   "outputs": [],
   "source": []
  },
  {
   "cell_type": "code",
   "execution_count": 15,
   "metadata": {},
   "outputs": [
    {
     "name": "stdout",
     "output_type": "stream",
     "text": [
      "<|im_start|>user\n",
      "Tell me how to make a pie<|im_end|>\n",
      "<|im_start|>assistant\n",
      "Sure! Here is a basic recipe for making a traditional apple pie:\n",
      "Ingredients:\n",
      "\n",
      "  * 2 1/4 cups all-purpose flour\n",
      "  * 1 tsp salt\n",
      "  * 1 tbsp granulated sugar\n",
      "  * 3/4 cup unsalted butter, cold and diced\n",
      "  * 6-8 tbsp ice water\n",
      "\n",
      "Filling:\n",
      "\n",
      "  * 6 cups thinly sliced apples (such as Granny Smith)\n",
      "  * 1/2 cup granulated sugar\n",
      "  * 1 tbsp cornstarch\n",
      "  * 1 tsp ground cinnamon\n",
      "  * 1/4 tsp nutmeg\n",
      "  * Pinch of salt\n",
      "  * 1 tbsp lemon juice\n",
      "  * 2 tbsp unsalted butter, cut into small pieces\n",
      "\n",
      "Pie crust:\n",
      "\n",
      "  * Preheat your oven to 375°F.\n",
      "  * In a large bowl, whisk together the flour, salt, and sugar. Add in the diced butter and use a pastry blender or your fingers to work the butter into the dry ingredients until it resembles coarse sand.\n",
      "  * Slowly add in the ice water, one tablespoon at a time, stirring gently after each addition until the dough comes together. Be careful not to overwork the dough.\n",
      "  * Divide the dough in half and roll out each piece on a lightly floured surface until it is about 1/8 inch thick. Use a 9-inch pie dish as a guide for shaping the dough into a circle.\n",
      "  * Carefully transfer the rolled-out dough onto the pie dish and trim any excess dough from the edges.\n",
      "  * To make the filling, mix together the sliced apples, sugar, cornstarch, cinnamon, nutmeg, salt, and lemon juice in a large bowl. Toss well to combine.\n",
      "  * Pour the apple mixture into the prepared pie crust and dot with small pieces of butter.\n",
      "  * Roll out the second piece of dough and use it to cover the top of the pie. Cut off any excess dough and crimp the edges to seal the pie shut.\n",
      "  * Place the pie on a baking sheet and bake for 40-50 minutes or until the crust is golden brown and the filling is bubbly.\n",
      "  * Let the pie cool completely before serving.\n",
      "\n",
      "Enjoy your homemade apple pie!<|im_end|>\n",
      "<|endoftext|>\n"
     ]
    }
   ],
   "source": []
  },
  {
   "cell_type": "code",
   "execution_count": null,
   "metadata": {},
   "outputs": [],
   "source": []
  }
 ],
 "metadata": {
  "kernelspec": {
   "display_name": "venv",
   "language": "python",
   "name": "python3"
  },
  "language_info": {
   "codemirror_mode": {
    "name": "ipython",
    "version": 3
   },
   "file_extension": ".py",
   "mimetype": "text/x-python",
   "name": "python",
   "nbconvert_exporter": "python",
   "pygments_lexer": "ipython3",
   "version": "3.10.13"
  }
 },
 "nbformat": 4,
 "nbformat_minor": 2
}
